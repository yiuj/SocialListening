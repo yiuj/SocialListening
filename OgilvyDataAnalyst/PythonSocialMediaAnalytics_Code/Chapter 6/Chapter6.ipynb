{
 "cells": [
  {
   "cell_type": "code",
   "execution_count": 36,
   "metadata": {
    "collapsed": true
   },
   "outputs": [],
   "source": [
    "import requests\n",
    "\n",
    "results = []\n",
    "q = \"created:>2017-01-01\"\n",
    "\n",
    "def search_repo_paging(q):\n",
    "    params = {'q' : q, 'sort' : 'forks', 'order': 'desc', 'per_page' : 100}\n",
    "    url = 'https://api.github.com/search/repositories'\n",
    "\n",
    "    while True:\n",
    "\n",
    "        res = requests.get(url, params = params)\n",
    "        result = res.json()\n",
    "        results.extend(result['items'])\n",
    "        params = {}\n",
    "\n",
    "        try:\n",
    "            url = res.links['next']['url']\n",
    "        except:\n",
    "            break"
   ]
  },
  {
   "cell_type": "code",
   "execution_count": 26,
   "metadata": {},
   "outputs": [],
   "source": [
    "from pandas.io.json import json_normalize\n",
    "\n",
    "import json\n",
    "\n",
    "import pandas as pd\n",
    "import bson.json_util as json_util\n",
    "\n",
    "sanitized = json.loads(json_util.dumps(results))\n",
    "normalized = json_normalize(sanitized)\n",
    "df = pd.DataFrame(normalized)"
   ]
  },
  {
   "cell_type": "code",
   "execution_count": 23,
   "metadata": {},
   "outputs": [
    {
     "data": {
      "text/html": [
       "<div>\n",
       "<style>\n",
       "    .dataframe thead tr:only-child th {\n",
       "        text-align: right;\n",
       "    }\n",
       "\n",
       "    .dataframe thead th {\n",
       "        text-align: left;\n",
       "    }\n",
       "\n",
       "    .dataframe tbody tr th {\n",
       "        vertical-align: top;\n",
       "    }\n",
       "</style>\n",
       "<table border=\"1\" class=\"dataframe\">\n",
       "  <thead>\n",
       "    <tr style=\"text-align: right;\">\n",
       "      <th></th>\n",
       "      <th>archive_url</th>\n",
       "      <th>assignees_url</th>\n",
       "      <th>blobs_url</th>\n",
       "      <th>branches_url</th>\n",
       "      <th>clone_url</th>\n",
       "      <th>collaborators_url</th>\n",
       "      <th>comments_url</th>\n",
       "      <th>commits_url</th>\n",
       "      <th>compare_url</th>\n",
       "      <th>contents_url</th>\n",
       "      <th>...</th>\n",
       "      <th>subscribers_url</th>\n",
       "      <th>subscription_url</th>\n",
       "      <th>svn_url</th>\n",
       "      <th>tags_url</th>\n",
       "      <th>teams_url</th>\n",
       "      <th>trees_url</th>\n",
       "      <th>updated_at</th>\n",
       "      <th>url</th>\n",
       "      <th>watchers</th>\n",
       "      <th>watchers_count</th>\n",
       "    </tr>\n",
       "  </thead>\n",
       "  <tbody>\n",
       "    <tr>\n",
       "      <th>0</th>\n",
       "      <td>https://api.github.com/repos/hasura-imad/imad-...</td>\n",
       "      <td>https://api.github.com/repos/hasura-imad/imad-...</td>\n",
       "      <td>https://api.github.com/repos/hasura-imad/imad-...</td>\n",
       "      <td>https://api.github.com/repos/hasura-imad/imad-...</td>\n",
       "      <td>https://github.com/hasura-imad/imad-app-v2.git</td>\n",
       "      <td>https://api.github.com/repos/hasura-imad/imad-...</td>\n",
       "      <td>https://api.github.com/repos/hasura-imad/imad-...</td>\n",
       "      <td>https://api.github.com/repos/hasura-imad/imad-...</td>\n",
       "      <td>https://api.github.com/repos/hasura-imad/imad-...</td>\n",
       "      <td>https://api.github.com/repos/hasura-imad/imad-...</td>\n",
       "      <td>...</td>\n",
       "      <td>https://api.github.com/repos/hasura-imad/imad-...</td>\n",
       "      <td>https://api.github.com/repos/hasura-imad/imad-...</td>\n",
       "      <td>https://github.com/hasura-imad/imad-app-v2</td>\n",
       "      <td>https://api.github.com/repos/hasura-imad/imad-...</td>\n",
       "      <td>https://api.github.com/repos/hasura-imad/imad-...</td>\n",
       "      <td>https://api.github.com/repos/hasura-imad/imad-...</td>\n",
       "      <td>2017-05-17T13:02:53Z</td>\n",
       "      <td>https://api.github.com/repos/hasura-imad/imad-...</td>\n",
       "      <td>2</td>\n",
       "      <td>2</td>\n",
       "    </tr>\n",
       "    <tr>\n",
       "      <th>1</th>\n",
       "      <td>https://api.github.com/repos/learn-co-students...</td>\n",
       "      <td>https://api.github.com/repos/learn-co-students...</td>\n",
       "      <td>https://api.github.com/repos/learn-co-students...</td>\n",
       "      <td>https://api.github.com/repos/learn-co-students...</td>\n",
       "      <td>https://github.com/learn-co-students/js-if-els...</td>\n",
       "      <td>https://api.github.com/repos/learn-co-students...</td>\n",
       "      <td>https://api.github.com/repos/learn-co-students...</td>\n",
       "      <td>https://api.github.com/repos/learn-co-students...</td>\n",
       "      <td>https://api.github.com/repos/learn-co-students...</td>\n",
       "      <td>https://api.github.com/repos/learn-co-students...</td>\n",
       "      <td>...</td>\n",
       "      <td>https://api.github.com/repos/learn-co-students...</td>\n",
       "      <td>https://api.github.com/repos/learn-co-students...</td>\n",
       "      <td>https://github.com/learn-co-students/js-if-els...</td>\n",
       "      <td>https://api.github.com/repos/learn-co-students...</td>\n",
       "      <td>https://api.github.com/repos/learn-co-students...</td>\n",
       "      <td>https://api.github.com/repos/learn-co-students...</td>\n",
       "      <td>2017-04-24T18:46:46Z</td>\n",
       "      <td>https://api.github.com/repos/learn-co-students...</td>\n",
       "      <td>0</td>\n",
       "      <td>0</td>\n",
       "    </tr>\n",
       "    <tr>\n",
       "      <th>2</th>\n",
       "      <td>https://api.github.com/repos/SunJieMing/js-min...</td>\n",
       "      <td>https://api.github.com/repos/SunJieMing/js-min...</td>\n",
       "      <td>https://api.github.com/repos/SunJieMing/js-min...</td>\n",
       "      <td>https://api.github.com/repos/SunJieMing/js-min...</td>\n",
       "      <td>https://github.com/SunJieMing/js-minicamp-home...</td>\n",
       "      <td>https://api.github.com/repos/SunJieMing/js-min...</td>\n",
       "      <td>https://api.github.com/repos/SunJieMing/js-min...</td>\n",
       "      <td>https://api.github.com/repos/SunJieMing/js-min...</td>\n",
       "      <td>https://api.github.com/repos/SunJieMing/js-min...</td>\n",
       "      <td>https://api.github.com/repos/SunJieMing/js-min...</td>\n",
       "      <td>...</td>\n",
       "      <td>https://api.github.com/repos/SunJieMing/js-min...</td>\n",
       "      <td>https://api.github.com/repos/SunJieMing/js-min...</td>\n",
       "      <td>https://github.com/SunJieMing/js-minicamp-home...</td>\n",
       "      <td>https://api.github.com/repos/SunJieMing/js-min...</td>\n",
       "      <td>https://api.github.com/repos/SunJieMing/js-min...</td>\n",
       "      <td>https://api.github.com/repos/SunJieMing/js-min...</td>\n",
       "      <td>2017-07-12T20:08:57Z</td>\n",
       "      <td>https://api.github.com/repos/SunJieMing/js-min...</td>\n",
       "      <td>15</td>\n",
       "      <td>15</td>\n",
       "    </tr>\n",
       "    <tr>\n",
       "      <th>3</th>\n",
       "      <td>https://api.github.com/repos/COGS108/MyFirstPu...</td>\n",
       "      <td>https://api.github.com/repos/COGS108/MyFirstPu...</td>\n",
       "      <td>https://api.github.com/repos/COGS108/MyFirstPu...</td>\n",
       "      <td>https://api.github.com/repos/COGS108/MyFirstPu...</td>\n",
       "      <td>https://github.com/COGS108/MyFirstPullRequest2...</td>\n",
       "      <td>https://api.github.com/repos/COGS108/MyFirstPu...</td>\n",
       "      <td>https://api.github.com/repos/COGS108/MyFirstPu...</td>\n",
       "      <td>https://api.github.com/repos/COGS108/MyFirstPu...</td>\n",
       "      <td>https://api.github.com/repos/COGS108/MyFirstPu...</td>\n",
       "      <td>https://api.github.com/repos/COGS108/MyFirstPu...</td>\n",
       "      <td>...</td>\n",
       "      <td>https://api.github.com/repos/COGS108/MyFirstPu...</td>\n",
       "      <td>https://api.github.com/repos/COGS108/MyFirstPu...</td>\n",
       "      <td>https://github.com/COGS108/MyFirstPullRequest2</td>\n",
       "      <td>https://api.github.com/repos/COGS108/MyFirstPu...</td>\n",
       "      <td>https://api.github.com/repos/COGS108/MyFirstPu...</td>\n",
       "      <td>https://api.github.com/repos/COGS108/MyFirstPu...</td>\n",
       "      <td>2017-05-02T01:20:05Z</td>\n",
       "      <td>https://api.github.com/repos/COGS108/MyFirstPu...</td>\n",
       "      <td>0</td>\n",
       "      <td>0</td>\n",
       "    </tr>\n",
       "    <tr>\n",
       "      <th>4</th>\n",
       "      <td>https://api.github.com/repos/rolling-scopes-sc...</td>\n",
       "      <td>https://api.github.com/repos/rolling-scopes-sc...</td>\n",
       "      <td>https://api.github.com/repos/rolling-scopes-sc...</td>\n",
       "      <td>https://api.github.com/repos/rolling-scopes-sc...</td>\n",
       "      <td>https://github.com/rolling-scopes-school/doubl...</td>\n",
       "      <td>https://api.github.com/repos/rolling-scopes-sc...</td>\n",
       "      <td>https://api.github.com/repos/rolling-scopes-sc...</td>\n",
       "      <td>https://api.github.com/repos/rolling-scopes-sc...</td>\n",
       "      <td>https://api.github.com/repos/rolling-scopes-sc...</td>\n",
       "      <td>https://api.github.com/repos/rolling-scopes-sc...</td>\n",
       "      <td>...</td>\n",
       "      <td>https://api.github.com/repos/rolling-scopes-sc...</td>\n",
       "      <td>https://api.github.com/repos/rolling-scopes-sc...</td>\n",
       "      <td>https://github.com/rolling-scopes-school/doubl...</td>\n",
       "      <td>https://api.github.com/repos/rolling-scopes-sc...</td>\n",
       "      <td>https://api.github.com/repos/rolling-scopes-sc...</td>\n",
       "      <td>https://api.github.com/repos/rolling-scopes-sc...</td>\n",
       "      <td>2017-07-09T12:53:31Z</td>\n",
       "      <td>https://api.github.com/repos/rolling-scopes-sc...</td>\n",
       "      <td>3</td>\n",
       "      <td>3</td>\n",
       "    </tr>\n",
       "  </tbody>\n",
       "</table>\n",
       "<p>5 rows × 86 columns</p>\n",
       "</div>"
      ],
      "text/plain": [
       "                                         archive_url  \\\n",
       "0  https://api.github.com/repos/hasura-imad/imad-...   \n",
       "1  https://api.github.com/repos/learn-co-students...   \n",
       "2  https://api.github.com/repos/SunJieMing/js-min...   \n",
       "3  https://api.github.com/repos/COGS108/MyFirstPu...   \n",
       "4  https://api.github.com/repos/rolling-scopes-sc...   \n",
       "\n",
       "                                       assignees_url  \\\n",
       "0  https://api.github.com/repos/hasura-imad/imad-...   \n",
       "1  https://api.github.com/repos/learn-co-students...   \n",
       "2  https://api.github.com/repos/SunJieMing/js-min...   \n",
       "3  https://api.github.com/repos/COGS108/MyFirstPu...   \n",
       "4  https://api.github.com/repos/rolling-scopes-sc...   \n",
       "\n",
       "                                           blobs_url  \\\n",
       "0  https://api.github.com/repos/hasura-imad/imad-...   \n",
       "1  https://api.github.com/repos/learn-co-students...   \n",
       "2  https://api.github.com/repos/SunJieMing/js-min...   \n",
       "3  https://api.github.com/repos/COGS108/MyFirstPu...   \n",
       "4  https://api.github.com/repos/rolling-scopes-sc...   \n",
       "\n",
       "                                        branches_url  \\\n",
       "0  https://api.github.com/repos/hasura-imad/imad-...   \n",
       "1  https://api.github.com/repos/learn-co-students...   \n",
       "2  https://api.github.com/repos/SunJieMing/js-min...   \n",
       "3  https://api.github.com/repos/COGS108/MyFirstPu...   \n",
       "4  https://api.github.com/repos/rolling-scopes-sc...   \n",
       "\n",
       "                                           clone_url  \\\n",
       "0     https://github.com/hasura-imad/imad-app-v2.git   \n",
       "1  https://github.com/learn-co-students/js-if-els...   \n",
       "2  https://github.com/SunJieMing/js-minicamp-home...   \n",
       "3  https://github.com/COGS108/MyFirstPullRequest2...   \n",
       "4  https://github.com/rolling-scopes-school/doubl...   \n",
       "\n",
       "                                   collaborators_url  \\\n",
       "0  https://api.github.com/repos/hasura-imad/imad-...   \n",
       "1  https://api.github.com/repos/learn-co-students...   \n",
       "2  https://api.github.com/repos/SunJieMing/js-min...   \n",
       "3  https://api.github.com/repos/COGS108/MyFirstPu...   \n",
       "4  https://api.github.com/repos/rolling-scopes-sc...   \n",
       "\n",
       "                                        comments_url  \\\n",
       "0  https://api.github.com/repos/hasura-imad/imad-...   \n",
       "1  https://api.github.com/repos/learn-co-students...   \n",
       "2  https://api.github.com/repos/SunJieMing/js-min...   \n",
       "3  https://api.github.com/repos/COGS108/MyFirstPu...   \n",
       "4  https://api.github.com/repos/rolling-scopes-sc...   \n",
       "\n",
       "                                         commits_url  \\\n",
       "0  https://api.github.com/repos/hasura-imad/imad-...   \n",
       "1  https://api.github.com/repos/learn-co-students...   \n",
       "2  https://api.github.com/repos/SunJieMing/js-min...   \n",
       "3  https://api.github.com/repos/COGS108/MyFirstPu...   \n",
       "4  https://api.github.com/repos/rolling-scopes-sc...   \n",
       "\n",
       "                                         compare_url  \\\n",
       "0  https://api.github.com/repos/hasura-imad/imad-...   \n",
       "1  https://api.github.com/repos/learn-co-students...   \n",
       "2  https://api.github.com/repos/SunJieMing/js-min...   \n",
       "3  https://api.github.com/repos/COGS108/MyFirstPu...   \n",
       "4  https://api.github.com/repos/rolling-scopes-sc...   \n",
       "\n",
       "                                        contents_url       ...        \\\n",
       "0  https://api.github.com/repos/hasura-imad/imad-...       ...         \n",
       "1  https://api.github.com/repos/learn-co-students...       ...         \n",
       "2  https://api.github.com/repos/SunJieMing/js-min...       ...         \n",
       "3  https://api.github.com/repos/COGS108/MyFirstPu...       ...         \n",
       "4  https://api.github.com/repos/rolling-scopes-sc...       ...         \n",
       "\n",
       "                                     subscribers_url  \\\n",
       "0  https://api.github.com/repos/hasura-imad/imad-...   \n",
       "1  https://api.github.com/repos/learn-co-students...   \n",
       "2  https://api.github.com/repos/SunJieMing/js-min...   \n",
       "3  https://api.github.com/repos/COGS108/MyFirstPu...   \n",
       "4  https://api.github.com/repos/rolling-scopes-sc...   \n",
       "\n",
       "                                    subscription_url  \\\n",
       "0  https://api.github.com/repos/hasura-imad/imad-...   \n",
       "1  https://api.github.com/repos/learn-co-students...   \n",
       "2  https://api.github.com/repos/SunJieMing/js-min...   \n",
       "3  https://api.github.com/repos/COGS108/MyFirstPu...   \n",
       "4  https://api.github.com/repos/rolling-scopes-sc...   \n",
       "\n",
       "                                             svn_url  \\\n",
       "0         https://github.com/hasura-imad/imad-app-v2   \n",
       "1  https://github.com/learn-co-students/js-if-els...   \n",
       "2  https://github.com/SunJieMing/js-minicamp-home...   \n",
       "3     https://github.com/COGS108/MyFirstPullRequest2   \n",
       "4  https://github.com/rolling-scopes-school/doubl...   \n",
       "\n",
       "                                            tags_url  \\\n",
       "0  https://api.github.com/repos/hasura-imad/imad-...   \n",
       "1  https://api.github.com/repos/learn-co-students...   \n",
       "2  https://api.github.com/repos/SunJieMing/js-min...   \n",
       "3  https://api.github.com/repos/COGS108/MyFirstPu...   \n",
       "4  https://api.github.com/repos/rolling-scopes-sc...   \n",
       "\n",
       "                                           teams_url  \\\n",
       "0  https://api.github.com/repos/hasura-imad/imad-...   \n",
       "1  https://api.github.com/repos/learn-co-students...   \n",
       "2  https://api.github.com/repos/SunJieMing/js-min...   \n",
       "3  https://api.github.com/repos/COGS108/MyFirstPu...   \n",
       "4  https://api.github.com/repos/rolling-scopes-sc...   \n",
       "\n",
       "                                           trees_url            updated_at  \\\n",
       "0  https://api.github.com/repos/hasura-imad/imad-...  2017-05-17T13:02:53Z   \n",
       "1  https://api.github.com/repos/learn-co-students...  2017-04-24T18:46:46Z   \n",
       "2  https://api.github.com/repos/SunJieMing/js-min...  2017-07-12T20:08:57Z   \n",
       "3  https://api.github.com/repos/COGS108/MyFirstPu...  2017-05-02T01:20:05Z   \n",
       "4  https://api.github.com/repos/rolling-scopes-sc...  2017-07-09T12:53:31Z   \n",
       "\n",
       "                                                 url  watchers  watchers_count  \n",
       "0  https://api.github.com/repos/hasura-imad/imad-...         2               2  \n",
       "1  https://api.github.com/repos/learn-co-students...         0               0  \n",
       "2  https://api.github.com/repos/SunJieMing/js-min...        15              15  \n",
       "3  https://api.github.com/repos/COGS108/MyFirstPu...         0               0  \n",
       "4  https://api.github.com/repos/rolling-scopes-sc...         3               3  \n",
       "\n",
       "[5 rows x 86 columns]"
      ]
     },
     "execution_count": 23,
     "metadata": {},
     "output_type": "execute_result"
    }
   ],
   "source": [
    "df.head(5)"
   ]
  },
  {
   "cell_type": "markdown",
   "metadata": {},
   "source": [
    "# Data Processing"
   ]
  },
  {
   "cell_type": "code",
   "execution_count": 29,
   "metadata": {},
   "outputs": [
    {
     "name": "stderr",
     "output_type": "stream",
     "text": [
      "/usr/local/lib/python3.6/site-packages/ipykernel_launcher.py:4: SettingWithCopyWarning: \n",
      "A value is trying to be set on a copy of a slice from a DataFrame.\n",
      "Try using .loc[row_indexer,col_indexer] = value instead\n",
      "\n",
      "See the caveats in the documentation: http://pandas.pydata.org/pandas-docs/stable/indexing.html#indexing-view-versus-copy\n",
      "  after removing the cwd from sys.path.\n"
     ]
    }
   ],
   "source": [
    "from langdetect import detect\n",
    "\n",
    "df = df.dropna(subset=['description'])\n",
    "df['lang'] = df.apply(lambda x: detect(x['description']),axis=1)\n",
    "df = df[df['lang'] == 'en']"
   ]
  },
  {
   "cell_type": "code",
   "execution_count": 31,
   "metadata": {},
   "outputs": [],
   "source": [
    "import nltk, string\n",
    "\n",
    "from nltk import word_tokenize\n",
    "\n",
    "from nltk.corpus import stopwords\n",
    "\n",
    "def clean(text = '', stopwords = []):\n",
    "\n",
    "    #tokenize\n",
    "\n",
    "    tokens = word_tokenize(text.strip())\n",
    "\n",
    "    #lowercase\n",
    "\n",
    "    clean = [i.lower() for i in tokens]\n",
    "\n",
    "    #remove stopwords\n",
    "\n",
    "    clean = [i for i in clean if i not in stopwords]\n",
    "\n",
    "    #remove ponctuation\n",
    "\n",
    "    punctuations = list(string.punctuation)\n",
    "\n",
    "    clean = [i.strip(''.join(punctuations)) for i in clean if i not in\n",
    "\n",
    "    punctuations]\n",
    "\n",
    "    return \" \".join(clean)\n",
    "\n",
    "df['clean'] = df['description'].apply(str) #make sure description is a\n",
    "\n",
    "string\n",
    "\n",
    "df['clean'] = df['clean'].apply(lambda x: clean(text = x, stopwords = stopwords.words('english')))"
   ]
  },
  {
   "cell_type": "code",
   "execution_count": 32,
   "metadata": {},
   "outputs": [
    {
     "data": {
      "text/html": [
       "<div>\n",
       "<style>\n",
       "    .dataframe thead tr:only-child th {\n",
       "        text-align: right;\n",
       "    }\n",
       "\n",
       "    .dataframe thead th {\n",
       "        text-align: left;\n",
       "    }\n",
       "\n",
       "    .dataframe tbody tr th {\n",
       "        vertical-align: top;\n",
       "    }\n",
       "</style>\n",
       "<table border=\"1\" class=\"dataframe\">\n",
       "  <thead>\n",
       "    <tr style=\"text-align: right;\">\n",
       "      <th></th>\n",
       "      <th>watchers_count</th>\n",
       "      <th>size</th>\n",
       "      <th>forks_count</th>\n",
       "      <th>open_issues</th>\n",
       "    </tr>\n",
       "  </thead>\n",
       "  <tbody>\n",
       "    <tr>\n",
       "      <th>count</th>\n",
       "      <td>107.000000</td>\n",
       "      <td>107.000000</td>\n",
       "      <td>107.000000</td>\n",
       "      <td>107.000000</td>\n",
       "    </tr>\n",
       "    <tr>\n",
       "      <th>mean</th>\n",
       "      <td>215.915888</td>\n",
       "      <td>10854.859813</td>\n",
       "      <td>146.542056</td>\n",
       "      <td>9.467290</td>\n",
       "    </tr>\n",
       "    <tr>\n",
       "      <th>std</th>\n",
       "      <td>450.105671</td>\n",
       "      <td>52309.227403</td>\n",
       "      <td>246.533754</td>\n",
       "      <td>29.419323</td>\n",
       "    </tr>\n",
       "    <tr>\n",
       "      <th>min</th>\n",
       "      <td>0.000000</td>\n",
       "      <td>0.000000</td>\n",
       "      <td>72.000000</td>\n",
       "      <td>0.000000</td>\n",
       "    </tr>\n",
       "    <tr>\n",
       "      <th>25%</th>\n",
       "      <td>0.000000</td>\n",
       "      <td>15.500000</td>\n",
       "      <td>83.000000</td>\n",
       "      <td>0.000000</td>\n",
       "    </tr>\n",
       "    <tr>\n",
       "      <th>50%</th>\n",
       "      <td>2.000000</td>\n",
       "      <td>91.000000</td>\n",
       "      <td>97.000000</td>\n",
       "      <td>1.000000</td>\n",
       "    </tr>\n",
       "    <tr>\n",
       "      <th>75%</th>\n",
       "      <td>199.500000</td>\n",
       "      <td>1939.000000</td>\n",
       "      <td>137.500000</td>\n",
       "      <td>6.500000</td>\n",
       "    </tr>\n",
       "    <tr>\n",
       "      <th>max</th>\n",
       "      <td>2217.000000</td>\n",
       "      <td>486038.000000</td>\n",
       "      <td>2563.000000</td>\n",
       "      <td>276.000000</td>\n",
       "    </tr>\n",
       "  </tbody>\n",
       "</table>\n",
       "</div>"
      ],
      "text/plain": [
       "       watchers_count           size  forks_count  open_issues\n",
       "count      107.000000     107.000000   107.000000   107.000000\n",
       "mean       215.915888   10854.859813   146.542056     9.467290\n",
       "std        450.105671   52309.227403   246.533754    29.419323\n",
       "min          0.000000       0.000000    72.000000     0.000000\n",
       "25%          0.000000      15.500000    83.000000     0.000000\n",
       "50%          2.000000      91.000000    97.000000     1.000000\n",
       "75%        199.500000    1939.000000   137.500000     6.500000\n",
       "max       2217.000000  486038.000000  2563.000000   276.000000"
      ]
     },
     "execution_count": 32,
     "metadata": {},
     "output_type": "execute_result"
    }
   ],
   "source": [
    "df[['watchers_count','size','forks_count','open_issues']].describe()"
   ]
  },
  {
   "cell_type": "markdown",
   "metadata": {},
   "source": [
    "# Data Analysis"
   ]
  },
  {
   "cell_type": "markdown",
   "metadata": {},
   "source": [
    "## Top technologies"
   ]
  },
  {
   "cell_type": "code",
   "execution_count": 33,
   "metadata": {
    "collapsed": true
   },
   "outputs": [],
   "source": [
    "import nltk\n",
    "from nltk.collocations import *\n",
    "\n",
    "\n",
    "list_documents = df['clean'].apply(lambda x: x.split()).tolist()\n",
    "\n",
    "bigram_measures = nltk.collocations.BigramAssocMeasures()\n",
    "bigram_finder = BigramCollocationFinder.from_documents(list_documents)\n",
    "bigram_finder.apply_freq_filter(3)\n",
    "\n",
    "bigrams = bigram_finder.nbest(bigram_measures.raw_freq,20)\n",
    "scores = bigram_finder.score_ngrams(bigram_measures.raw_freq)\n",
    "\n",
    "\n",
    "ngram = list(bigram_finder.ngram_fd.items())\n",
    "ngram.sort(key=lambda item: item[-1], reverse=True)\n",
    "\n",
    "frequency = [(\" \".join(k), v) for k,v in ngram]\n"
   ]
  },
  {
   "cell_type": "code",
   "execution_count": 34,
   "metadata": {},
   "outputs": [
    {
     "data": {
      "image/png": "[encoded data removed]",
      "text/plain": [
       "<matplotlib.figure.Figure at 0x11156f5c0>"
      ]
     },
     "metadata": {},
     "output_type": "display_data"
    }
   ],
   "source": [
    "df=pd.DataFrame(frequency)\n",
    "\n",
    "import matplotlib.pyplot as plt\n",
    "\n",
    "plt.style.use('ggplot')\n",
    "\n",
    "df.set_index([0], inplace = True)\n",
    "\n",
    "df.sort_values(by = [1], ascending = False).head(20).plot(kind = 'barh')\n",
    "\n",
    "plt.title('Trending Technologies')\n",
    "\n",
    "plt.ylabel('Technology')\n",
    "\n",
    "plt.xlabel('Popularity')\n",
    "\n",
    "plt.legend().set_visible(False)\n",
    "\n",
    "plt.axvline(x=14, color='b', label='Average', linestyle='--', linewidth=3)\n",
    "\n",
    "for custom in [0, 10, 14]:\n",
    "    plt.text(14.2, custom, \"Neural Networks\", fontsize = 12, va = 'center',bbox = dict(boxstyle='square', fc='white', ec='none'))\n",
    "\n",
    "plt.show()\n"
   ]
  },
  {
   "cell_type": "markdown",
   "metadata": {},
   "source": [
    "## Programming languages"
   ]
  },
  {
   "cell_type": "code",
   "execution_count": 45,
   "metadata": {},
   "outputs": [
    {
     "ename": "TypeError",
     "evalue": "'NoneType' object is not subscriptable",
     "output_type": "error",
     "traceback": [
      "\u001b[0;31m---------------------------------------------------------------------------\u001b[0m",
      "\u001b[0;31mTypeError\u001b[0m                                 Traceback (most recent call last)",
      "\u001b[0;32m<ipython-input-45-b2aabf58ca1b>\u001b[0m in \u001b[0;36m<module>\u001b[0;34m()\u001b[0m\n\u001b[1;32m      7\u001b[0m     \u001b[0mdata\u001b[0m \u001b[0;34m=\u001b[0m \u001b[0msearch_repo_paging\u001b[0m\u001b[0;34m(\u001b[0m\u001b[0mquery\u001b[0m\u001b[0;34m)\u001b[0m\u001b[0;34m\u001b[0m\u001b[0m\n\u001b[1;32m      8\u001b[0m \u001b[0;34m\u001b[0m\u001b[0m\n\u001b[0;32m----> 9\u001b[0;31m     \u001b[0mdata\u001b[0m \u001b[0;34m=\u001b[0m \u001b[0mpd\u001b[0m\u001b[0;34m.\u001b[0m\u001b[0mio\u001b[0m\u001b[0;34m.\u001b[0m\u001b[0mjson\u001b[0m\u001b[0;34m.\u001b[0m\u001b[0mjson_normalize\u001b[0m\u001b[0;34m(\u001b[0m\u001b[0mdata\u001b[0m\u001b[0;34m)\u001b[0m\u001b[0;34m\u001b[0m\u001b[0m\n\u001b[0m\u001b[1;32m     10\u001b[0m \u001b[0;34m\u001b[0m\u001b[0m\n\u001b[1;32m     11\u001b[0m     \u001b[0mdf\u001b[0m \u001b[0;34m=\u001b[0m \u001b[0mpd\u001b[0m\u001b[0;34m.\u001b[0m\u001b[0mconcat\u001b[0m\u001b[0;34m(\u001b[0m\u001b[0;34m[\u001b[0m\u001b[0mdf\u001b[0m\u001b[0;34m,\u001b[0m \u001b[0mdata\u001b[0m\u001b[0;34m]\u001b[0m\u001b[0;34m)\u001b[0m\u001b[0;34m\u001b[0m\u001b[0m\n",
      "\u001b[0;32m/usr/local/lib/python3.6/site-packages/pandas/io/json/normalize.py\u001b[0m in \u001b[0;36mjson_normalize\u001b[0;34m(data, record_path, meta, meta_prefix, record_prefix, errors, sep)\u001b[0m\n\u001b[1;32m    181\u001b[0m \u001b[0;34m\u001b[0m\u001b[0m\n\u001b[1;32m    182\u001b[0m     \u001b[0;32mif\u001b[0m \u001b[0mrecord_path\u001b[0m \u001b[0;32mis\u001b[0m \u001b[0;32mNone\u001b[0m\u001b[0;34m:\u001b[0m\u001b[0;34m\u001b[0m\u001b[0m\n\u001b[0;32m--> 183\u001b[0;31m         \u001b[0;32mif\u001b[0m \u001b[0many\u001b[0m\u001b[0;34m(\u001b[0m\u001b[0;34m[\u001b[0m\u001b[0misinstance\u001b[0m\u001b[0;34m(\u001b[0m\u001b[0mx\u001b[0m\u001b[0;34m,\u001b[0m \u001b[0mdict\u001b[0m\u001b[0;34m)\u001b[0m \u001b[0;32mfor\u001b[0m \u001b[0mx\u001b[0m \u001b[0;32min\u001b[0m \u001b[0mcompat\u001b[0m\u001b[0;34m.\u001b[0m\u001b[0mitervalues\u001b[0m\u001b[0;34m(\u001b[0m\u001b[0mdata\u001b[0m\u001b[0;34m[\u001b[0m\u001b[0;36m0\u001b[0m\u001b[0;34m]\u001b[0m\u001b[0;34m)\u001b[0m\u001b[0;34m]\u001b[0m\u001b[0;34m)\u001b[0m\u001b[0;34m:\u001b[0m\u001b[0;34m\u001b[0m\u001b[0m\n\u001b[0m\u001b[1;32m    184\u001b[0m             \u001b[0;31m# naive normalization, this is idempotent for flat records\u001b[0m\u001b[0;34m\u001b[0m\u001b[0;34m\u001b[0m\u001b[0m\n\u001b[1;32m    185\u001b[0m             \u001b[0;31m# and potentially will inflate the data considerably for\u001b[0m\u001b[0;34m\u001b[0m\u001b[0;34m\u001b[0m\u001b[0m\n",
      "\u001b[0;31mTypeError\u001b[0m: 'NoneType' object is not subscriptable"
     ]
    }
   ],
   "source": [
    "queries = [\"created:>2017-01-01\", \"created:2015-01-01..2015-12-31\",\"created:2016-01-01..2016-12-31\"]\n",
    "\n",
    "df = pd.DataFrame()\n",
    "\n",
    "for query in queries:\n",
    "\n",
    "    data = search_repo_paging(query)\n",
    "\n",
    "    data = pd.io.json.json_normalize(data)\n",
    "\n",
    "    df = pd.concat([df, data])\n",
    "    \n",
    "df['created_at'] = df['created_at'].apply(pd.to_datetime)\n",
    "\n",
    "df = df.set_index(['created_at'])\n"
   ]
  },
  {
   "cell_type": "code",
   "execution_count": 42,
   "metadata": {},
   "outputs": [
    {
     "ename": "AttributeError",
     "evalue": "'Index' object has no attribute 'year'",
     "output_type": "error",
     "traceback": [
      "\u001b[0;31m---------------------------------------------------------------------------\u001b[0m",
      "\u001b[0;31mAttributeError\u001b[0m                            Traceback (most recent call last)",
      "\u001b[0;32m<ipython-input-42-18b7e6c4cbde>\u001b[0m in \u001b[0;36m<module>\u001b[0;34m()\u001b[0m\n\u001b[1;32m      1\u001b[0m \u001b[0mfig\u001b[0m\u001b[0;34m,\u001b[0m \u001b[0max\u001b[0m \u001b[0;34m=\u001b[0m \u001b[0mplt\u001b[0m\u001b[0;34m.\u001b[0m\u001b[0msubplots\u001b[0m\u001b[0;34m(\u001b[0m\u001b[0;34m)\u001b[0m\u001b[0;34m\u001b[0m\u001b[0m\n\u001b[1;32m      2\u001b[0m \u001b[0;34m\u001b[0m\u001b[0m\n\u001b[0;32m----> 3\u001b[0;31m \u001b[0mdx\u001b[0m \u001b[0;34m=\u001b[0m \u001b[0mpd\u001b[0m\u001b[0;34m.\u001b[0m\u001b[0mDataFrame\u001b[0m\u001b[0;34m(\u001b[0m\u001b[0mdf\u001b[0m\u001b[0;34m.\u001b[0m\u001b[0mgroupby\u001b[0m\u001b[0;34m(\u001b[0m\u001b[0;34m[\u001b[0m\u001b[0;34m'language'\u001b[0m\u001b[0;34m,\u001b[0m \u001b[0mdf\u001b[0m\u001b[0;34m.\u001b[0m\u001b[0mindex\u001b[0m\u001b[0;34m.\u001b[0m\u001b[0myear\u001b[0m\u001b[0;34m]\u001b[0m\u001b[0;34m)\u001b[0m\u001b[0;34m[\u001b[0m\u001b[0;34m'language'\u001b[0m\u001b[0;34m]\u001b[0m\u001b[0;34m.\u001b[0m\u001b[0mcount\u001b[0m\u001b[0;34m(\u001b[0m\u001b[0;34m)\u001b[0m\u001b[0;34m)\u001b[0m\u001b[0;34m\u001b[0m\u001b[0m\n\u001b[0m\u001b[1;32m      4\u001b[0m \u001b[0;34m\u001b[0m\u001b[0m\n\u001b[1;32m      5\u001b[0m \u001b[0mdx\u001b[0m\u001b[0;34m.\u001b[0m\u001b[0munstack\u001b[0m\u001b[0;34m(\u001b[0m\u001b[0;34m)\u001b[0m\u001b[0;34m.\u001b[0m\u001b[0mplot\u001b[0m\u001b[0;34m(\u001b[0m\u001b[0mkind\u001b[0m\u001b[0;34m=\u001b[0m\u001b[0;34m'bar'\u001b[0m\u001b[0;34m,\u001b[0m \u001b[0mtitle\u001b[0m \u001b[0;34m=\u001b[0m \u001b[0;34m'Programming Languages per Year'\u001b[0m\u001b[0;34m,\u001b[0m \u001b[0max\u001b[0m \u001b[0;34m=\u001b[0m \u001b[0max\u001b[0m\u001b[0;34m)\u001b[0m\u001b[0;34m\u001b[0m\u001b[0m\n",
      "\u001b[0;31mAttributeError\u001b[0m: 'Index' object has no attribute 'year'"
     ]
    }
   ],
   "source": [
    "fig, ax = plt.subplots()\n",
    "\n",
    "dx = pd.DataFrame(df.groupby(['language', df.index.year])['language'].count())\n",
    "\n",
    "dx.unstack().plot(kind='bar', title = 'Programming Languages per Year', ax = ax)\n",
    "\n",
    "ax.legend(['2015', '2016', '2017'], title = 'Year')\n",
    "\n",
    "plt.show()"
   ]
  },
  {
   "cell_type": "markdown",
   "metadata": {},
   "source": [
    "## Programming languages in top technologies"
   ]
  },
  {
   "cell_type": "code",
   "execution_count": null,
   "metadata": {
    "collapsed": true
   },
   "outputs": [],
   "source": [
    "technologies_list = ['software engineering', 'deep learning', 'open source', 'exercise practice']\n",
    "\n",
    "for tech in technologies_list:\n",
    "\n",
    "    print(tech)\n",
    "\n",
    "    print(set(df[df['clean'].str.contains(tech)]['language']))"
   ]
  },
  {
   "cell_type": "markdown",
   "metadata": {},
   "source": [
    "## Top repositories by technology"
   ]
  },
  {
   "cell_type": "code",
   "execution_count": null,
   "metadata": {
    "collapsed": true
   },
   "outputs": [],
   "source": [
    "technologies_list = ['software engineering', 'deep learning', 'open source', 'exercise practice']\n",
    "\n",
    "result = df.sort_values(by='watchers_count', ascending=False)\n",
    "\n",
    "for tech in technologies_list:\n",
    "\n",
    "    subset = result[result['clean'].str.contains(tech)].head(5)\n",
    "\n",
    "    print(tech)\n",
    "\n",
    "    for i,line in subset.iterrows():\n",
    "\n",
    "        print(line['name'])\n",
    "\n",
    "        print(line['description'])\n",
    "\n",
    "        print('\\n')"
   ]
  },
  {
   "cell_type": "markdown",
   "metadata": {},
   "source": [
    "## Forks, open_issues, size, watchers count"
   ]
  },
  {
   "cell_type": "code",
   "execution_count": null,
   "metadata": {
    "collapsed": true
   },
   "outputs": [],
   "source": [
    "df.groupby('technology')['forks', 'watchers', 'size', 'open_issues'].mean()\n",
    "df.groupby('technology')['forks', 'watchers', 'size', 'open_issues'].min()\n",
    "df.groupby('technology')['forks', 'watchers', 'size', 'open_issues'].max()"
   ]
  },
  {
   "cell_type": "markdown",
   "metadata": {},
   "source": [
    "## Forks vs open issues"
   ]
  },
  {
   "cell_type": "code",
   "execution_count": null,
   "metadata": {
    "collapsed": true
   },
   "outputs": [],
   "source": [
    "x = df['forks']\n",
    "\n",
    "y = df['open_issues']\n",
    "\n",
    "fig, ax = plt.subplots()\n",
    "\n",
    "colors = dict(zip(set(df['technology']), ['red', 'blue']))\n",
    "\n",
    "ax.scatter(x=x, y=y, c=df['technology'].apply(lambda x: colors[x]), s = 200, alpha = 0.5)\n",
    "ax.set(title='Deep Learning and Open Source Technologies', xlabel='Number of forks', ylabel='Number of open issues')\n",
    "\n",
    "plt.show()"
   ]
  },
  {
   "cell_type": "markdown",
   "metadata": {},
   "source": [
    "## Forks vs size"
   ]
  },
  {
   "cell_type": "code",
   "execution_count": null,
   "metadata": {
    "collapsed": true
   },
   "outputs": [],
   "source": [
    "x = df['forks']\n",
    "\n",
    "y = df['size']\n",
    "\n",
    "ax.set(title='Deep Learning and Open Source Technologies', xlabel='Number of forks', ylabel='Repos size')\n",
    "\n",
    "plt.show()"
   ]
  },
  {
   "cell_type": "markdown",
   "metadata": {},
   "source": [
    "## Forks vs watchers"
   ]
  },
  {
   "cell_type": "code",
   "execution_count": null,
   "metadata": {
    "collapsed": true
   },
   "outputs": [],
   "source": [
    "x = df['watchers']\n",
    "\n",
    "y = df['forks']\n",
    "\n",
    "ax.set(title='Deep Learning and Open Source Technologies', xlabel='Number of watchers', ylabel='Number of forks')\n",
    "\n",
    "plt.show()"
   ]
  },
  {
   "cell_type": "markdown",
   "metadata": {},
   "source": [
    "## Open issues versus size"
   ]
  },
  {
   "cell_type": "code",
   "execution_count": null,
   "metadata": {
    "collapsed": true
   },
   "outputs": [],
   "source": [
    "x = df['open_issues']\n",
    "\n",
    "y = df['size']\n",
    "\n",
    "ax.set(title='Deep Learning and Open Source Technologies', xlabel='Number of open issues', ylabel='Repos size')\n",
    "\n",
    "plt.show()"
   ]
  },
  {
   "cell_type": "markdown",
   "metadata": {},
   "source": [
    "## Open issues versus Watchers"
   ]
  },
  {
   "cell_type": "code",
   "execution_count": null,
   "metadata": {
    "collapsed": true
   },
   "outputs": [],
   "source": [
    "x = df['open_issues']\n",
    "\n",
    "y = df['watchers']\n",
    "\n",
    "ax.set(title='Deep Learning and Open Source Technologies', xlabel='Number of open issues', ylabel='Number of watchers')\n",
    "\n",
    "plt.show()"
   ]
  },
  {
   "cell_type": "markdown",
   "metadata": {},
   "source": [
    "## Size vs watchers"
   ]
  },
  {
   "cell_type": "code",
   "execution_count": null,
   "metadata": {
    "collapsed": true
   },
   "outputs": [],
   "source": [
    "x = df['size']\n",
    "\n",
    "y = df['watchers']\n",
    "\n",
    "ax.set(title='Deep Learning and Open Source Technologies', xlabel='Repos size', ylabel='Number of watchers')\n",
    "       \n",
    "plt.show()"
   ]
  }
 ],
 "metadata": {
  "kernelspec": {
   "display_name": "Python 3",
   "language": "python",
   "name": "python3"
  },
  "language_info": {
   "codemirror_mode": {
    "name": "ipython",
    "version": 3
   },
   "file_extension": ".py",
   "mimetype": "text/x-python",
   "name": "python",
   "nbconvert_exporter": "python",
   "pygments_lexer": "ipython3",
   "version": "3.6.1"
  }
 },
 "nbformat": 4,
 "nbformat_minor": 2
}
