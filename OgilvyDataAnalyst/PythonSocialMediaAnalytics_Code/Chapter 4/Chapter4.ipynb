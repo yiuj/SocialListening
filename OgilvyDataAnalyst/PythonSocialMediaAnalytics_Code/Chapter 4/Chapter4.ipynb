{
 "cells": [
  {
   "cell_type": "markdown",
   "metadata": {},
   "source": [
    "# Twitter Queries"
   ]
  },
  {
   "cell_type": "code",
   "execution_count": 3,
   "metadata": {
    "collapsed": true
   },
   "outputs": [],
   "source": [
    "import requests\n",
    "from requests_oauthlib import OAuth1\n",
    " \n",
    "q = 'premier league -filter:retweets AND -filter:replies'\n",
    " \n",
    "url = 'https://api.Twitter.com/1.1/search/tweets.json' ### url to Twitter API\n",
    " \n",
    "pms = {'q' : q, 'count' : 100, 'lang' : 'en', 'result_type': 'recent'} ### parameters according to Twitter API\n",
    " \n",
    "consumer_key = \"\"\n",
    "consumer_secret = \"\"\n",
    "access_token = \"\"\n",
    "access_token_secret = \"\"\n",
    "    \n",
    "auth = OAuth1(consumer_key, consumer_secret, access_token, access_token_secret)\t\n",
    " \n",
    "res = requests.get(url, params = pms, auth=auth)\n",
    "\n",
    "tweets = res.json()"
   ]
  },
  {
   "cell_type": "code",
   "execution_count": null,
   "metadata": {
    "collapsed": true
   },
   "outputs": [],
   "source": [
    "tweets['statuses']"
   ]
  },
  {
   "cell_type": "code",
   "execution_count": null,
   "metadata": {
    "collapsed": true
   },
   "outputs": [],
   "source": [
    "tweets['statuses'][0]['text']"
   ]
  },
  {
   "cell_type": "markdown",
   "metadata": {},
   "source": [
    "# Pagination"
   ]
  },
  {
   "cell_type": "code",
   "execution_count": null,
   "metadata": {
    "collapsed": true
   },
   "outputs": [],
   "source": [
    "#Iterate through 100 pages with tweets and save the data into MongoDB\n",
    "\n",
    "from pymongo import MongoClient\n",
    "\n",
    "client = MongoClient('localhost:27017')\n",
    "db = client.twitter\n",
    "collection = db.tweets\n",
    "\n",
    "pages_counter = 0\n",
    "number_of_pages = 100\n",
    "\n",
    "while pages_counter < number_of_pages:\n",
    "    pages_counter += 1\n",
    "    res = requests.get(url, params = pms, auth=auth)\n",
    "    print(\"Connection status: %s\" % res.reason)\n",
    "    tweets = res.json()\n",
    "    ids = [i['id'] for i in tweets['statuses']]\t # collect ids of all tweets to select min(val)\n",
    "    pms['max_id'] = min(ids) - 1 # because it would include and then duplicate\n",
    "    collection.insert_many(tweets['statuses']) \n"
   ]
  },
  {
   "cell_type": "markdown",
   "metadata": {},
   "source": [
    "# Stream API"
   ]
  },
  {
   "cell_type": "code",
   "execution_count": null,
   "metadata": {
    "collapsed": true
   },
   "outputs": [],
   "source": [
    "from pymongo import MongoClient\n",
    "from requests_oauthlib import OAuth1\n",
    " \n",
    "client = MongoClient('mongodb://localhost:27017/')\n",
    "db = client['test']\n",
    "collection = db['test']\n",
    "\n",
    "url = 'https://stream.Twitter.com/1.1/statuses/filter.json' \n",
    "auth = OAuth1(consumer_key, consumer_secret, access_token, access_token_secret)\n",
    "\n",
    "pms = {'track' : 'premier league -filter:retweets AND -filter:replies', 'lang': 'en'}\n",
    "\n",
    "res = requests.post(url, auth=auth, params = pms, stream = True)\n",
    " \n",
    "for line in res.iter_lines():   \n",
    "    if line:\n",
    "        tweet = json.loads(line)\n",
    "        try:\n",
    "           collection.insert(tweet)\n",
    "        except:\n",
    "            pass"
   ]
  },
  {
   "cell_type": "markdown",
   "metadata": {},
   "source": [
    "# Data Pull"
   ]
  },
  {
   "cell_type": "code",
   "execution_count": null,
   "metadata": {
    "collapsed": true
   },
   "outputs": [],
   "source": [
    "import json\n",
    "import pandas as pd\n",
    "from bs4 import BeautifulSoup\n",
    "from pymongo import MongoClient\n",
    "\n",
    " \n",
    "client = MongoClient('mongodb://localhost:27017/')\n",
    "db = client['twitter']\n",
    "collection = db['tweets']\n",
    " \n",
    "documents = []\n",
    "for doc in collection.find():\n",
    "    documents.append(doc)\n",
    "    \n",
    "df = pd.DataFrame(documents)\n",
    "                     \n",
    "\n",
    "df['tweet_source'] = df['source'].apply(lambda x: BeautifulSoup(x).get_text())\n",
    "\n",
    "devices = list(set(df[df['tweet_source'].str.startswith('Twitter')]['tweet_source']))\n",
    "                     \n",
    "devices.remove('Twitter Ads')\n",
    "                     \n",
    "df = df[df['tweet_source'].isin(devices)]\n",
    "                     \n",
    "df = df[~df['text'].str.contains(\"Ghana|ghana|jamaica|Jamaica|Ladbrokes|India|Pakistan|Ghana Premier League|Vijay|Predictions|Egyptian Premier League|cricket|Kings|Caribbean Premier League|@cricbuzz|Cricinfo\")]\n",
    "                     \n",
    "                     "
   ]
  },
  {
   "cell_type": "code",
   "execution_count": null,
   "metadata": {
    "collapsed": true
   },
   "outputs": [],
   "source": [
    "df.tweet_source"
   ]
  },
  {
   "cell_type": "code",
   "execution_count": 58,
   "metadata": {},
   "outputs": [],
   "source": [
    "from nltk.tokenize import TweetTokenizer\n",
    "from nltk.corpus import stopwords\n",
    "import string\n",
    " \n",
    "df['tokens'] = df['text'].apply(TweetTokenizer().tokenize)\n",
    " \n",
    "stopwords_vocabulary = stopwords.words('english')\n",
    "df['stopwords'] = df['tokens'].apply(lambda x: [i for i in x if i.lower() not in stopwords_vocabulary])\n",
    " \n",
    "punctuations = list(string.punctuation)\n",
    " \n",
    "df['punctuation'] = df['stopwords'].apply(lambda x: [i for i in x if i not in punctuations])\n",
    "df['digits'] = df['punctuation'].apply(lambda x: [i for i in x if i[0] not in list(string.digits)])\n",
    "df['final'] = df['digits'].apply(lambda x: [i for i in x if len(i) > 1])"
   ]
  },
  {
   "cell_type": "code",
   "execution_count": 64,
   "metadata": {},
   "outputs": [
    {
     "data": {
      "image/png": "[encoded data removed]",
      "text/plain": [
       "<matplotlib.figure.Figure at 0x11075a630>"
      ]
     },
     "metadata": {},
     "output_type": "display_data"
    }
   ],
   "source": [
    "from nltk.sentiment.vader import SentimentIntensityAnalyzer\n",
    "import matplotlib.pyplot as plt\n",
    " \n",
    "sentiment = SentimentIntensityAnalyzer()\n",
    " \n",
    "df['sentiment'] = df.text.apply(lambda x: sentiment.polarity_scores(x)['compound'])\n",
    "\n",
    "#sentiment.polarity_scores(text) #test method\n",
    "\n",
    "pos = len(df[df.sentiment > 0])\n",
    "neg = len(df[df.sentiment < 0])\n",
    "neu = len(df[df.sentiment == 0])\n",
    "\n",
    "y = [pos, neu, neg]\t# vector of y-values\n",
    " \n",
    "plt.title(\"Sentiment Analysis\")\n",
    "plt.ylabel('Number of tweets')\n",
    "plt.xticks(range(len(y)), ['positive', 'neutral', 'negative'])\n",
    "plt.bar(range(len(y)), height=y, width = 0.75, align = 'center', alpha = 0.8)\n",
    " \n",
    "plt.show()\n"
   ]
  },
  {
   "cell_type": "markdown",
   "metadata": {
    "collapsed": true
   },
   "source": [
    "# Customized sentiment analysis"
   ]
  },
  {
   "cell_type": "code",
   "execution_count": 75,
   "metadata": {},
   "outputs": [],
   "source": [
    "#You need to tag the dataset before\n",
    "dataset  = pd.read_pickle('tagged.pickle')\n",
    "\n",
    "classes = ['pos', 'neu', 'neg']\n",
    "train_data = dataset['final'][0:80]\n",
    "train_labels = dataset['label'][0:80]\n",
    "test_data = dataset['final'][80:96]\n",
    "test_labels = dataset['label'][80:96]\n",
    "train_data = list(train_data.apply(' '.join))\n",
    "test_data = list(test_data.apply(' '.join))"
   ]
  },
  {
   "cell_type": "code",
   "execution_count": 77,
   "metadata": {},
   "outputs": [
    {
     "data": {
      "text/plain": [
       "0.6875"
      ]
     },
     "execution_count": 77,
     "metadata": {},
     "output_type": "execute_result"
    }
   ],
   "source": [
    "from sklearn.feature_extraction.text import TfidfVectorizer\n",
    "from sklearn.naive_bayes import MultinomialNB\n",
    "\n",
    "vectorizer = TfidfVectorizer(min_df=5, max_df = 0.8, sublinear_tf=True, use_idf=True)\n",
    "\n",
    "train_vectors = vectorizer.fit_transform(train_data)\n",
    "test_vectors = vectorizer.transform(test_data)\n",
    "\n",
    "### Perform a logistic regression model, and fit with X and y\n",
    "\n",
    "nb = MultinomialNB()\n",
    "\n",
    "nb.fit(train_vectors, train_labels).score(test_vectors, test_labels)"
   ]
  },
  {
   "cell_type": "raw",
   "metadata": {},
   "source": [
    "from sklearn.metrics import classification_report, confusion_matrix, accuracy_score\n",
    "from sklearn.model_selection import cross_val_predict\n",
    "\n",
    "print(\"Naive Bayes\")\n",
    "print(classification_report(test_labels, nb.predict(test_vectors)))\n",
    "print(confusion_matrix(test_labels, nb.predict(test_vectors)))\n",
    "predicted = cross_val_predict(nb, train_vectors, train_labels, cv=10)\n",
    "print(\"Cross validation %s\" % accuracy_score(train_labels, predicted))"
   ]
  },
  {
   "cell_type": "markdown",
   "metadata": {},
   "source": [
    "# NER Recognition"
   ]
  },
  {
   "cell_type": "code",
   "execution_count": null,
   "metadata": {
    "collapsed": true
   },
   "outputs": [],
   "source": [
    "from nltk.tag import StanfordNERTagger\n",
    "from collections import Counter\n",
    "import numpy as np\n",
    "\n",
    "st = StanfordNERTagger('path_to_your_folder/english.all.3class.distsim.crf.ser.gz') \n",
    "st.tag(sentence.split())\n",
    "\n",
    "for r in tweets:\n",
    "    lst_tags = st.tag(r.split())\n",
    "\n",
    "for tup in lst_tags:\n",
    "    if(tup[1] != 'O'):\n",
    "        entities.append(tup)"
   ]
  },
  {
   "cell_type": "code",
   "execution_count": null,
   "metadata": {
    "collapsed": true
   },
   "outputs": [],
   "source": [
    "organizations = df_entities[df_entities['ner'].str.contains(\"ORGANIZATION\")]\n",
    "\n",
    "cnt = Counter(organizations['word'])\n",
    "cnt.most_common(10)"
   ]
  },
  {
   "cell_type": "markdown",
   "metadata": {},
   "source": [
    "# Combining NER and sentiment analysis"
   ]
  },
  {
   "cell_type": "code",
   "execution_count": null,
   "metadata": {
    "collapsed": true
   },
   "outputs": [],
   "source": [
    "subset = dataset[dataset['tweet'].str.contains('Liverpool')]\n",
    "avg_sentiment = np.mean(subset['sentiment'])"
   ]
  }
 ],
 "metadata": {
  "kernelspec": {
   "display_name": "Python 3",
   "language": "python",
   "name": "python3"
  },
  "language_info": {
   "codemirror_mode": {
    "name": "ipython",
    "version": 3
   },
   "file_extension": ".py",
   "mimetype": "text/x-python",
   "name": "python",
   "nbconvert_exporter": "python",
   "pygments_lexer": "ipython3",
   "version": "3.6.1"
  }
 },
 "nbformat": 4,
 "nbformat_minor": 2
}
